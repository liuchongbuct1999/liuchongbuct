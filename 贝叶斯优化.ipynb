    "source": [
    "from sklearn.datasets import make_classification\n",
    "from sklearn.ensemble import RandomForestClassifier\n",
    "from sklearn.model_selection import cross_val_score\n",
    "from bayes_opt import BayesianOptimization\n",
    "import numpy as np\n",
    "\n",
    "\n",
    "# 产生随机分类数据集，10个特征， 2个类别\n",
    "x, y = make_classification(n_samples=1000,n_features=10,n_classes=2)\n",
    "\n",
    "rf = RandomForestClassifier()\n",
    "\n",
    "print(np.mean(cross_val_score(rf, x, y, cv=20, scoring='roc_auc')))\n",
    "\n",
    "\n",
    "\n",
    "#贝叶斯优化\n",
    "\n",
    "#先要定义一个目标函数。\n",
    "#比如此时，函数输入为随机森林的所有参数，输出为模型交叉验证5次的AUC均值，作为我们的目标函数。\n",
    "#因为bayes_opt库只支持最大值，所以最后的输出如果是越小越好，那么需要在前面加上负号，以转为最大值。\n",
    "def rf_cv(n_estimators, min_samples_split, max_features, max_depth):\n",
    "    \n",
    "    val = cross_val_score(\n",
    "        RandomForestClassifier(n_estimators=int(n_estimators),\n",
    "        min_samples_split=int(min_samples_split),\n",
    "        max_features=min(max_features, 0.999), # float\n",
    "        max_depth=int(max_depth),random_state=2\n",
    "        ),x, y, scoring='roc_auc', cv=5)\n",
    "\n",
    "    return val.mean()\n",
    "\n",
    "\n",
    "\n",
    "#建立贝叶斯优化对象\n",
    "rf_bo = BayesianOptimization(\n",
    "rf_cv,\n",
    "{'n_estimators': (10, 250),\n",
    "'min_samples_split': (2, 25),\n",
    "'max_features': (0.1, 0.999),\n",
    "'max_depth': (5, 15)}\n",
    ")\n",
    "\n",
    "#里面的第一个参数是我们的优化目标函数，第二个参数是我们所需要输入的超参数名称，以及其范围。超参数名称必须和目标函数的输入名称一一对应。\n",
    "#开始优化：\n",
    "rf_bo.maximize()\n",
    "\n",
    "\n",
    "rf_bo.res[\"max\"]"
   ]
  }
 ],
 "metadata": {
  "kernelspec": {
   "display_name": "Python 3.9.10 64-bit",
   "language": "python",
   "name": "python3"
  },
  "language_info": {
   "codemirror_mode": {
    "name": "ipython",
    "version": 3
   },
   "file_extension": ".py",
   "mimetype": "text/x-python",
   "name": "python",
   "nbconvert_exporter": "python",
   "pygments_lexer": "ipython3",
   "version": "3.9.10"
  },
  "orig_nbformat": 4,
  "vscode": {
   "interpreter": {
    "hash": "8f939dc046ae95b61db57b1ddfb635e5199eac9f7bf30422bfd106b8f44dc254"
   }
  }
 },
 "nbformat": 4,
 "nbformat_minor": 2
}
