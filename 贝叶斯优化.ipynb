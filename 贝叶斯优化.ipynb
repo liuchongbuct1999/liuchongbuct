{
 "cells": [
  {
   "cell_type": "code",
   "execution_count": 14,
   "metadata": {},
   "outputs": [
    {
     "name": "stdout",
     "output_type": "stream",
     "text": [
      "0.9478000000000002\n",
      "|   iter    |  target   | max_depth | max_fe... | min_sa... | n_esti... |\n",
      "-------------------------------------------------------------------------\n",
      "| \u001b[0m 1       \u001b[0m | \u001b[0m 0.9479  \u001b[0m | \u001b[0m 7.954   \u001b[0m | \u001b[0m 0.9316  \u001b[0m | \u001b[0m 11.75   \u001b[0m | \u001b[0m 205.5   \u001b[0m |\n",
      "| \u001b[95m 2       \u001b[0m | \u001b[95m 0.9492  \u001b[0m | \u001b[95m 13.68   \u001b[0m | \u001b[95m 0.6646  \u001b[0m | \u001b[95m 20.23   \u001b[0m | \u001b[95m 173.9   \u001b[0m |\n",
      "| \u001b[95m 3       \u001b[0m | \u001b[95m 0.9492  \u001b[0m | \u001b[95m 11.2    \u001b[0m | \u001b[95m 0.6155  \u001b[0m | \u001b[95m 10.76   \u001b[0m | \u001b[95m 172.7   \u001b[0m |\n",
      "| \u001b[0m 4       \u001b[0m | \u001b[0m 0.9486  \u001b[0m | \u001b[0m 13.28   \u001b[0m | \u001b[0m 0.3569  \u001b[0m | \u001b[0m 19.36   \u001b[0m | \u001b[0m 64.3    \u001b[0m |\n",
      "| \u001b[0m 5       \u001b[0m | \u001b[0m 0.9473  \u001b[0m | \u001b[0m 6.996   \u001b[0m | \u001b[0m 0.7189  \u001b[0m | \u001b[0m 4.522   \u001b[0m | \u001b[0m 201.1   \u001b[0m |\n"
     ]
    },
    {
     "ename": "TypeError",
     "evalue": "'float' object is not subscriptable",
     "output_type": "error",
     "traceback": [
      "\u001b[1;31m---------------------------------------------------------------------------\u001b[0m",
      "\u001b[1;31mStopIteration\u001b[0m                             Traceback (most recent call last)",
      "File \u001b[1;32mc:\\Users\\lenovo\\AppData\\Local\\Programs\\Python\\Python39\\lib\\site-packages\\bayes_opt\\bayesian_optimization.py:179\u001b[0m, in \u001b[0;36mBayesianOptimization.maximize\u001b[1;34m(self, init_points, n_iter, acq, kappa, kappa_decay, kappa_decay_delay, xi, **gp_params)\u001b[0m\n\u001b[0;32m    178\u001b[0m \u001b[39mtry\u001b[39;00m:\n\u001b[1;32m--> 179\u001b[0m     x_probe \u001b[39m=\u001b[39m \u001b[39mnext\u001b[39;49m(\u001b[39mself\u001b[39;49m\u001b[39m.\u001b[39;49m_queue)\n\u001b[0;32m    180\u001b[0m \u001b[39mexcept\u001b[39;00m \u001b[39mStopIteration\u001b[39;00m:\n",
      "File \u001b[1;32mc:\\Users\\lenovo\\AppData\\Local\\Programs\\Python\\Python39\\lib\\site-packages\\bayes_opt\\bayesian_optimization.py:25\u001b[0m, in \u001b[0;36mQueue.__next__\u001b[1;34m(self)\u001b[0m\n\u001b[0;32m     24\u001b[0m \u001b[39mif\u001b[39;00m \u001b[39mself\u001b[39m\u001b[39m.\u001b[39mempty:\n\u001b[1;32m---> 25\u001b[0m     \u001b[39mraise\u001b[39;00m \u001b[39mStopIteration\u001b[39;00m(\u001b[39m\"\u001b[39m\u001b[39mQueue is empty, no more objects to retrieve.\u001b[39m\u001b[39m\"\u001b[39m)\n\u001b[0;32m     26\u001b[0m obj \u001b[39m=\u001b[39m \u001b[39mself\u001b[39m\u001b[39m.\u001b[39m_queue[\u001b[39m0\u001b[39m]\n",
      "\u001b[1;31mStopIteration\u001b[0m: Queue is empty, no more objects to retrieve.",
      "\nDuring handling of the above exception, another exception occurred:\n",
      "\u001b[1;31mTypeError\u001b[0m                                 Traceback (most recent call last)",
      "\u001b[1;32mc:\\Users\\lenovo\\Desktop\\贝叶斯优化.ipynb Cell 1'\u001b[0m in \u001b[0;36m<cell line: 46>\u001b[1;34m()\u001b[0m\n\u001b[0;32m     <a href='vscode-notebook-cell:/c%3A/Users/lenovo/Desktop/%E8%B4%9D%E5%8F%B6%E6%96%AF%E4%BC%98%E5%8C%96.ipynb#ch0000002?line=35'>36</a>\u001b[0m rf_bo \u001b[39m=\u001b[39m BayesianOptimization(\n\u001b[0;32m     <a href='vscode-notebook-cell:/c%3A/Users/lenovo/Desktop/%E8%B4%9D%E5%8F%B6%E6%96%AF%E4%BC%98%E5%8C%96.ipynb#ch0000002?line=36'>37</a>\u001b[0m rf_cv,\n\u001b[0;32m     <a href='vscode-notebook-cell:/c%3A/Users/lenovo/Desktop/%E8%B4%9D%E5%8F%B6%E6%96%AF%E4%BC%98%E5%8C%96.ipynb#ch0000002?line=37'>38</a>\u001b[0m {\u001b[39m'\u001b[39m\u001b[39mn_estimators\u001b[39m\u001b[39m'\u001b[39m: (\u001b[39m10\u001b[39m, \u001b[39m250\u001b[39m),\n\u001b[1;32m   (...)\u001b[0m\n\u001b[0;32m     <a href='vscode-notebook-cell:/c%3A/Users/lenovo/Desktop/%E8%B4%9D%E5%8F%B6%E6%96%AF%E4%BC%98%E5%8C%96.ipynb#ch0000002?line=40'>41</a>\u001b[0m \u001b[39m'\u001b[39m\u001b[39mmax_depth\u001b[39m\u001b[39m'\u001b[39m: (\u001b[39m5\u001b[39m, \u001b[39m15\u001b[39m)}\n\u001b[0;32m     <a href='vscode-notebook-cell:/c%3A/Users/lenovo/Desktop/%E8%B4%9D%E5%8F%B6%E6%96%AF%E4%BC%98%E5%8C%96.ipynb#ch0000002?line=41'>42</a>\u001b[0m )\n\u001b[0;32m     <a href='vscode-notebook-cell:/c%3A/Users/lenovo/Desktop/%E8%B4%9D%E5%8F%B6%E6%96%AF%E4%BC%98%E5%8C%96.ipynb#ch0000002?line=43'>44</a>\u001b[0m \u001b[39m#里面的第一个参数是我们的优化目标函数，第二个参数是我们所需要输入的超参数名称，以及其范围。超参数名称必须和目标函数的输入名称一一对应。\u001b[39;00m\n\u001b[0;32m     <a href='vscode-notebook-cell:/c%3A/Users/lenovo/Desktop/%E8%B4%9D%E5%8F%B6%E6%96%AF%E4%BC%98%E5%8C%96.ipynb#ch0000002?line=44'>45</a>\u001b[0m \u001b[39m#开始优化：\u001b[39;00m\n\u001b[1;32m---> <a href='vscode-notebook-cell:/c%3A/Users/lenovo/Desktop/%E8%B4%9D%E5%8F%B6%E6%96%AF%E4%BC%98%E5%8C%96.ipynb#ch0000002?line=45'>46</a>\u001b[0m rf_bo\u001b[39m.\u001b[39;49mmaximize()\n\u001b[0;32m     <a href='vscode-notebook-cell:/c%3A/Users/lenovo/Desktop/%E8%B4%9D%E5%8F%B6%E6%96%AF%E4%BC%98%E5%8C%96.ipynb#ch0000002?line=48'>49</a>\u001b[0m rf_bo\u001b[39m.\u001b[39mres[\u001b[39m\"\u001b[39m\u001b[39mmax\u001b[39m\u001b[39m\"\u001b[39m]\n",
      "File \u001b[1;32mc:\\Users\\lenovo\\AppData\\Local\\Programs\\Python\\Python39\\lib\\site-packages\\bayes_opt\\bayesian_optimization.py:182\u001b[0m, in \u001b[0;36mBayesianOptimization.maximize\u001b[1;34m(self, init_points, n_iter, acq, kappa, kappa_decay, kappa_decay_delay, xi, **gp_params)\u001b[0m\n\u001b[0;32m    180\u001b[0m \u001b[39mexcept\u001b[39;00m \u001b[39mStopIteration\u001b[39;00m:\n\u001b[0;32m    181\u001b[0m     util\u001b[39m.\u001b[39mupdate_params()\n\u001b[1;32m--> 182\u001b[0m     x_probe \u001b[39m=\u001b[39m \u001b[39mself\u001b[39;49m\u001b[39m.\u001b[39;49msuggest(util)\n\u001b[0;32m    183\u001b[0m     iteration \u001b[39m+\u001b[39m\u001b[39m=\u001b[39m \u001b[39m1\u001b[39m\n\u001b[0;32m    185\u001b[0m \u001b[39mself\u001b[39m\u001b[39m.\u001b[39mprobe(x_probe, lazy\u001b[39m=\u001b[39m\u001b[39mFalse\u001b[39;00m)\n",
      "File \u001b[1;32mc:\\Users\\lenovo\\AppData\\Local\\Programs\\Python\\Python39\\lib\\site-packages\\bayes_opt\\bayesian_optimization.py:131\u001b[0m, in \u001b[0;36mBayesianOptimization.suggest\u001b[1;34m(self, utility_function)\u001b[0m\n\u001b[0;32m    128\u001b[0m     \u001b[39mself\u001b[39m\u001b[39m.\u001b[39m_gp\u001b[39m.\u001b[39mfit(\u001b[39mself\u001b[39m\u001b[39m.\u001b[39m_space\u001b[39m.\u001b[39mparams, \u001b[39mself\u001b[39m\u001b[39m.\u001b[39m_space\u001b[39m.\u001b[39mtarget)\n\u001b[0;32m    130\u001b[0m \u001b[39m# Finding argmax of the acquisition function.\u001b[39;00m\n\u001b[1;32m--> 131\u001b[0m suggestion \u001b[39m=\u001b[39m acq_max(\n\u001b[0;32m    132\u001b[0m     ac\u001b[39m=\u001b[39;49mutility_function\u001b[39m.\u001b[39;49mutility,\n\u001b[0;32m    133\u001b[0m     gp\u001b[39m=\u001b[39;49m\u001b[39mself\u001b[39;49m\u001b[39m.\u001b[39;49m_gp,\n\u001b[0;32m    134\u001b[0m     y_max\u001b[39m=\u001b[39;49m\u001b[39mself\u001b[39;49m\u001b[39m.\u001b[39;49m_space\u001b[39m.\u001b[39;49mtarget\u001b[39m.\u001b[39;49mmax(),\n\u001b[0;32m    135\u001b[0m     bounds\u001b[39m=\u001b[39;49m\u001b[39mself\u001b[39;49m\u001b[39m.\u001b[39;49m_space\u001b[39m.\u001b[39;49mbounds,\n\u001b[0;32m    136\u001b[0m     random_state\u001b[39m=\u001b[39;49m\u001b[39mself\u001b[39;49m\u001b[39m.\u001b[39;49m_random_state\n\u001b[0;32m    137\u001b[0m )\n\u001b[0;32m    139\u001b[0m \u001b[39mreturn\u001b[39;00m \u001b[39mself\u001b[39m\u001b[39m.\u001b[39m_space\u001b[39m.\u001b[39marray_to_params(suggestion)\n",
      "File \u001b[1;32mc:\\Users\\lenovo\\AppData\\Local\\Programs\\Python\\Python39\\lib\\site-packages\\bayes_opt\\util.py:65\u001b[0m, in \u001b[0;36macq_max\u001b[1;34m(ac, gp, y_max, bounds, random_state, n_warmup, n_iter)\u001b[0m\n\u001b[0;32m     62\u001b[0m     \u001b[39mcontinue\u001b[39;00m\n\u001b[0;32m     64\u001b[0m \u001b[39m# Store it if better than previous minimum(maximum).\u001b[39;00m\n\u001b[1;32m---> 65\u001b[0m \u001b[39mif\u001b[39;00m max_acq \u001b[39mis\u001b[39;00m \u001b[39mNone\u001b[39;00m \u001b[39mor\u001b[39;00m \u001b[39m-\u001b[39mres\u001b[39m.\u001b[39;49mfun[\u001b[39m0\u001b[39;49m] \u001b[39m>\u001b[39m\u001b[39m=\u001b[39m max_acq:\n\u001b[0;32m     66\u001b[0m     x_max \u001b[39m=\u001b[39m res\u001b[39m.\u001b[39mx\n\u001b[0;32m     67\u001b[0m     max_acq \u001b[39m=\u001b[39m \u001b[39m-\u001b[39mres\u001b[39m.\u001b[39mfun[\u001b[39m0\u001b[39m]\n",
      "\u001b[1;31mTypeError\u001b[0m: 'float' object is not subscriptable"
     ]
    }
   ],
   "source": [
    "from sklearn.datasets import make_classification\n",
    "from sklearn.ensemble import RandomForestClassifier\n",
    "from sklearn.model_selection import cross_val_score\n",
    "from bayes_opt import BayesianOptimization\n",
    "import numpy as np\n",
    "\n",
    "\n",
    "# 产生随机分类数据集，10个特征， 2个类别\n",
    "x, y = make_classification(n_samples=1000,n_features=10,n_classes=2)\n",
    "\n",
    "rf = RandomForestClassifier()\n",
    "\n",
    "print(np.mean(cross_val_score(rf, x, y, cv=20, scoring='roc_auc')))\n",
    "\n",
    "\n",
    "\n",
    "#贝叶斯优化\n",
    "\n",
    "#先要定义一个目标函数。\n",
    "#比如此时，函数输入为随机森林的所有参数，输出为模型交叉验证5次的AUC均值，作为我们的目标函数。\n",
    "#因为bayes_opt库只支持最大值，所以最后的输出如果是越小越好，那么需要在前面加上负号，以转为最大值。\n",
    "def rf_cv(n_estimators, min_samples_split, max_features, max_depth):\n",
    "    \n",
    "    val = cross_val_score(\n",
    "        RandomForestClassifier(n_estimators=int(n_estimators),\n",
    "        min_samples_split=int(min_samples_split),\n",
    "        max_features=min(max_features, 0.999), # float\n",
    "        max_depth=int(max_depth),random_state=2\n",
    "        ),x, y, scoring='roc_auc', cv=5)\n",
    "\n",
    "    return val.mean()\n",
    "\n",
    "\n",
    "\n",
    "#建立贝叶斯优化对象\n",
    "rf_bo = BayesianOptimization(\n",
    "rf_cv,\n",
    "{'n_estimators': (10, 250),\n",
    "'min_samples_split': (2, 25),\n",
    "'max_features': (0.1, 0.999),\n",
    "'max_depth': (5, 15)}\n",
    ")\n",
    "\n",
    "#里面的第一个参数是我们的优化目标函数，第二个参数是我们所需要输入的超参数名称，以及其范围。超参数名称必须和目标函数的输入名称一一对应。\n",
    "#开始优化：\n",
    "rf_bo.maximize()\n",
    "\n",
    "\n",
    "rf_bo.res[\"max\"]"
   ]
  }
 ],
 "metadata": {
  "kernelspec": {
   "display_name": "Python 3.9.10 64-bit",
   "language": "python",
   "name": "python3"
  },
  "language_info": {
   "codemirror_mode": {
    "name": "ipython",
    "version": 3
   },
   "file_extension": ".py",
   "mimetype": "text/x-python",
   "name": "python",
   "nbconvert_exporter": "python",
   "pygments_lexer": "ipython3",
   "version": "3.9.10"
  },
  "orig_nbformat": 4,
  "vscode": {
   "interpreter": {
    "hash": "8f939dc046ae95b61db57b1ddfb635e5199eac9f7bf30422bfd106b8f44dc254"
   }
  }
 },
 "nbformat": 4,
 "nbformat_minor": 2
}
